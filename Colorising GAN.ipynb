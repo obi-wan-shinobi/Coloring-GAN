{
 "cells": [
  {
   "cell_type": "code",
   "execution_count": 1,
   "metadata": {},
   "outputs": [
    {
     "name": "stdout",
     "output_type": "stream",
     "text": [
      "1 Physical GPUs, 1 Logical GPUs\n"
     ]
    }
   ],
   "source": [
    "import tensorflow as tf\n",
    "gpus = tf.config.experimental.list_physical_devices('GPU')\n",
    "if gpus:\n",
    "    try:\n",
    "        # Restrict TensorFlow to only use the fourth GPU\n",
    "        tf.config.experimental.set_visible_devices(gpus[0], 'GPU')\n",
    "\n",
    "        # Currently, memory growth needs to be the same across GPUs\n",
    "        for gpu in gpus:\n",
    "            tf.config.experimental.set_memory_growth(gpu, True)\n",
    "        logical_gpus = tf.config.experimental.list_logical_devices('GPU')\n",
    "        print(len(gpus), \"Physical GPUs,\", len(logical_gpus), \"Logical GPUs\")\n",
    "    except RuntimeError as e:\n",
    "        # Memory growth must be set before GPUs have been initialized\n",
    "        print(e)\n",
    "        \n",
    "#tf.compat.v1.disable_v2_behavior()"
   ]
  },
  {
   "cell_type": "code",
   "execution_count": 2,
   "metadata": {},
   "outputs": [],
   "source": [
    "from tensorflow.keras.layers import Input, Reshape, Dropout, Dense \n",
    "from tensorflow.keras.layers import Flatten, BatchNormalization\n",
    "from tensorflow.keras.layers import Activation, ZeroPadding2D\n",
    "from tensorflow.keras.layers import LeakyReLU\n",
    "from tensorflow.keras.layers import UpSampling2D, Conv2D\n",
    "from tensorflow.keras.models import Sequential, Model, load_model\n",
    "from tensorflow.keras.optimizers import Adam\n",
    "from tensorflow.keras.preprocessing.image import img_to_array,ImageDataGenerator\n",
    "import numpy as np\n",
    "from PIL import Image\n",
    "import os \n",
    "import time\n",
    "import matplotlib.pyplot as plt"
   ]
  },
  {
   "cell_type": "code",
   "execution_count": 3,
   "metadata": {},
   "outputs": [],
   "source": [
    "# Nicely formatted time string\n",
    "def hms_string(sec_elapsed):\n",
    "    h = int(sec_elapsed / (60 * 60))\n",
    "    m = int((sec_elapsed % (60 * 60)) / 60)\n",
    "    s = sec_elapsed % 60\n",
    "    return \"{}:{:>02}:{:>05.2f}\".format(h, m, s)"
   ]
  },
  {
   "cell_type": "code",
   "execution_count": 4,
   "metadata": {},
   "outputs": [
    {
     "name": "stdout",
     "output_type": "stream",
     "text": [
      "Will generate 300px square images.\n"
     ]
    }
   ],
   "source": [
    "# Generation resolution - Must be square \n",
    "# Training data is also scaled to this.\n",
    "# Note GENERATE_RES 4 or higher  \n",
    "# will blow Google CoLab's memory and have not\n",
    "# been tested extensivly.\n",
    "GENERATE_RES = 3 # Generation resolution factor \n",
    "# (1=32, 2=64, 3=96, 4=128, etc.)\n",
    "GENERATE_SQUARE = 300 # rows/cols (should be square)\n",
    "GEN_IMAGE_CHANNELS = 3\n",
    "INPUT_IMAGE_CHANNELS = 1\n",
    "\n",
    "# Preview image \n",
    "PREVIEW_ROWS = 2\n",
    "PREVIEW_COLS = 4\n",
    "PREVIEW_MARGIN = 16\n",
    "\n",
    "# Size vector to generate images from\n",
    "SEED_SIZE = 1\n",
    "\n",
    "# Configuration\n",
    "DATA_PATH = 'output/colorised/'\n",
    "EPOCHS = 50\n",
    "BATCH_SIZE = 32\n",
    "BUFFER_SIZE = 60000\n",
    "\n",
    "print(f\"Will generate {GENERATE_SQUARE}px square images.\")"
   ]
  },
  {
   "cell_type": "markdown",
   "metadata": {},
   "source": [
    "# Generating Images using Keras image data generator"
   ]
  },
  {
   "cell_type": "code",
   "execution_count": 5,
   "metadata": {},
   "outputs": [
    {
     "name": "stdout",
     "output_type": "stream",
     "text": [
      "Found 40 images belonging to 1 classes.\n",
      "Found 40 images belonging to 1 classes.\n"
     ]
    }
   ],
   "source": [
    "bw_datagen = ImageDataGenerator(\n",
    "    rescale= 1./255,\n",
    ")\n",
    "\n",
    "bw_image_generator = bw_datagen.flow_from_directory(\n",
    "    \"training/\",\n",
    "    class_mode=None,\n",
    "    color_mode=\"grayscale\",\n",
    "    batch_size=1,\n",
    "    target_size=(GENERATE_SQUARE, GENERATE_SQUARE),\n",
    "    seed=123,\n",
    "    shuffle=False\n",
    ")\n",
    "\n",
    "\n",
    "cl_datagen = ImageDataGenerator(\n",
    "    rescale= 1./255\n",
    ")\n",
    "\n",
    "cl_image_generator = cl_datagen.flow_from_directory(\n",
    "    \"training/\",\n",
    "    class_mode=None,\n",
    "    color_mode=\"rgb\",\n",
    "    batch_size=1,\n",
    "    target_size=(GENERATE_SQUARE, GENERATE_SQUARE),\n",
    "    seed=123,\n",
    "    shuffle=False\n",
    ")"
   ]
  },
  {
   "cell_type": "code",
   "execution_count": 6,
   "metadata": {},
   "outputs": [],
   "source": [
    "def build_generator(channels, image_shape = (720,720,1)):\n",
    "    model = Sequential()\n",
    "    \n",
    "    model.add(Input(shape=image_shape))\n",
    "    \n",
    "    model.add(Conv2D(128,kernel_size=3,padding=\"same\"))\n",
    "    model.add(BatchNormalization(momentum=0.8))\n",
    "    model.add(Activation(\"relu\"))\n",
    "\n",
    "    model.add(Conv2D(128,kernel_size=3,padding=\"same\"))\n",
    "    model.add(BatchNormalization(momentum=0.8))\n",
    "    model.add(Activation(\"relu\"))\n",
    "   \n",
    "    model.add(Conv2D(256,kernel_size=3,padding=\"same\"))\n",
    "    model.add(BatchNormalization(momentum=0.8))\n",
    "    model.add(Activation(\"relu\"))\n",
    "    \n",
    "    model.add(Conv2D(256,kernel_size=3,padding=\"same\"))\n",
    "    model.add(BatchNormalization(momentum=0.8))\n",
    "    model.add(Activation(\"relu\"))\n",
    "    \n",
    "    model.add(Conv2D(256,kernel_size=3,padding=\"same\"))\n",
    "    model.add(BatchNormalization(momentum=0.8))\n",
    "    model.add(Activation(\"relu\"))\n",
    "\n",
    "    # Final CNN layer\n",
    "    model.add(Conv2D(channels,kernel_size=3,padding=\"same\"))\n",
    "    model.add(Activation(\"tanh\"))\n",
    "\n",
    "    return model"
   ]
  },
  {
   "cell_type": "code",
   "execution_count": 7,
   "metadata": {},
   "outputs": [],
   "source": [
    "def build_discriminator(image_shape=(720,720,3)):\n",
    "    model = Sequential()\n",
    "\n",
    "    model.add(Conv2D(32, kernel_size=3, strides=2, input_shape=image_shape, \n",
    "                     padding=\"same\"))\n",
    "    model.add(LeakyReLU(alpha=0.2))\n",
    "\n",
    "    model.add(Dropout(0.25))\n",
    "    model.add(Conv2D(64, kernel_size=3, strides=2, padding=\"same\"))\n",
    "    model.add(ZeroPadding2D(padding=((0,1),(0,1))))\n",
    "    model.add(BatchNormalization(momentum=0.8))\n",
    "    model.add(LeakyReLU(alpha=0.2))\n",
    "\n",
    "    model.add(Dropout(0.25))\n",
    "    model.add(Conv2D(128, kernel_size=3, strides=2, padding=\"same\"))\n",
    "    model.add(BatchNormalization(momentum=0.8))\n",
    "    model.add(LeakyReLU(alpha=0.2))\n",
    "\n",
    "    model.add(Dropout(0.25))\n",
    "    model.add(Conv2D(256, kernel_size=3, strides=1, padding=\"same\"))\n",
    "    model.add(BatchNormalization(momentum=0.8))\n",
    "    model.add(LeakyReLU(alpha=0.2))\n",
    "\n",
    "    model.add(Dropout(0.25))\n",
    "    model.add(Conv2D(512, kernel_size=3, strides=1, padding=\"same\"))\n",
    "    model.add(BatchNormalization(momentum=0.8))\n",
    "    model.add(LeakyReLU(alpha=0.2))\n",
    "\n",
    "    model.add(Dropout(0.25))\n",
    "    model.add(Flatten())\n",
    "    model.add(Dense(1, activation='sigmoid'))\n",
    "\n",
    "    return model"
   ]
  },
  {
   "cell_type": "code",
   "execution_count": 8,
   "metadata": {},
   "outputs": [],
   "source": [
    "def save_images(cnt,bw_images):\n",
    "    image_array = np.full(( \n",
    "      PREVIEW_MARGIN + (PREVIEW_ROWS * (GENERATE_SQUARE+PREVIEW_MARGIN)), \n",
    "      PREVIEW_MARGIN + (PREVIEW_COLS * (GENERATE_SQUARE+PREVIEW_MARGIN)), 3), \n",
    "      255, dtype=np.uint8)\n",
    "\n",
    "    generated_images = generator.predict(bw_images)\n",
    "\n",
    "    generated_images = 0.5 * generated_images + 0.5\n",
    "\n",
    "    image_count = 0\n",
    "    for row in range(PREVIEW_ROWS):\n",
    "        for col in range(PREVIEW_COLS):\n",
    "            r = row * (GENERATE_SQUARE+16) + PREVIEW_MARGIN\n",
    "            c = col * (GENERATE_SQUARE+16) + PREVIEW_MARGIN\n",
    "            image_array[r:r+GENERATE_SQUARE,c:c+GENERATE_SQUARE] \\\n",
    "                = generated_images[image_count] * 255\n",
    "            image_count += 1\n",
    "\n",
    "\n",
    "    output_path = os.path.join(DATA_PATH,'output')\n",
    "    if not os.path.exists(output_path):\n",
    "        os.makedirs(output_path)\n",
    "\n",
    "    filename = os.path.join(output_path,f\"train-{cnt}.png\")\n",
    "    im = Image.fromarray(image_array)\n",
    "    im.save(filename)"
   ]
  },
  {
   "cell_type": "code",
   "execution_count": 9,
   "metadata": {},
   "outputs": [
    {
     "data": {
      "text/plain": [
       "<matplotlib.image.AxesImage at 0x142143bb2c8>"
      ]
     },
     "execution_count": 9,
     "metadata": {},
     "output_type": "execute_result"
    },
    {
     "data": {
      "image/png": "[encoded data removed]",
      "text/plain": [
       "<Figure size 432x288 with 1 Axes>"
      ]
     },
     "metadata": {
      "needs_background": "light"
     },
     "output_type": "display_data"
    }
   ],
   "source": [
    "generator = build_generator(GEN_IMAGE_CHANNELS,(GENERATE_SQUARE,GENERATE_SQUARE,INPUT_IMAGE_CHANNELS))\n",
    "\n",
    "bw_image = bw_image_generator.next()\n",
    "\n",
    "generated_image = generator(bw_image, training=False)\n",
    "\n",
    "plt.imshow(generated_image[0, :, :, 0])"
   ]
  },
  {
   "cell_type": "code",
   "execution_count": 10,
   "metadata": {},
   "outputs": [
    {
     "name": "stdout",
     "output_type": "stream",
     "text": [
      "tf.Tensor([[0.49973658]], shape=(1, 1), dtype=float32)\n"
     ]
    }
   ],
   "source": [
    "image_shape = (GENERATE_SQUARE,GENERATE_SQUARE,GEN_IMAGE_CHANNELS)\n",
    "\n",
    "discriminator = build_discriminator(image_shape)\n",
    "decision = discriminator(generated_image)\n",
    "print (decision)"
   ]
  },
  {
   "cell_type": "code",
   "execution_count": 11,
   "metadata": {},
   "outputs": [],
   "source": [
    "cross_entropy = tf.keras.losses.BinaryCrossentropy(from_logits = True)\n",
    "\n",
    "def discriminator_loss(real_output, fake_output):\n",
    "    real_loss = cross_entropy(tf.ones_like(real_output), real_output)\n",
    "    fake_loss = cross_entropy(tf.zeros_like(fake_output), fake_output)\n",
    "    total_loss = real_loss + fake_loss\n",
    "    return total_loss\n",
    "\n",
    "def generator_loss(fake_output):\n",
    "    return cross_entropy(tf.ones_like(fake_output), fake_output)"
   ]
  },
  {
   "cell_type": "code",
   "execution_count": 12,
   "metadata": {},
   "outputs": [],
   "source": [
    "generator_optimizer = tf.keras.optimizers.Adam(1.5e-4,0.5)\n",
    "discriminator_optimizer = tf.keras.optimizers.Adam(1.5e-4,0.5)"
   ]
  },
  {
   "cell_type": "code",
   "execution_count": 13,
   "metadata": {},
   "outputs": [],
   "source": [
    "@tf.function\n",
    "def train_step(bw_images, cl_images):\n",
    "    with tf.GradientTape() as gen_tape, tf.GradientTape() as disc_tape:\n",
    "        generated_images = generator(bw_images, training=True)\n",
    "        \n",
    "        real_output = discriminator(cl_images, training=True)\n",
    "        fake_output = discriminator(generated_images, training=True)\n",
    "        \n",
    "        gen_loss = generator_loss(fake_output)\n",
    "        disc_loss = discriminator_loss(real_output, fake_output)\n",
    "        \n",
    "        gradients_of_generator = gen_tape.gradient(gen_loss, generator.trainable_variables)\n",
    "        gradients_of_discriminator = disc_tape.gradient(disc_loss, discriminator.trainable_variables)\n",
    "        \n",
    "        \n",
    "        generator_optimizer.apply_gradients(zip(gradients_of_generator, generator.trainable_variables))\n",
    "        discriminator_optimizer.apply_gradients(zip(gradients_of_discriminator, discriminator.trainable_variables))\n",
    "        \n",
    "        return gen_loss, disc_loss"
   ]
  },
  {
   "cell_type": "code",
   "execution_count": 35,
   "metadata": {},
   "outputs": [],
   "source": [
    "def train(gen_generator, disc_generator, epochs, steps_per_epoch):\n",
    "    start = time.time()\n",
    "    for epoch in range(epochs):\n",
    "        epoch_start = time.time()\n",
    "        \n",
    "        gen_loss_list = []\n",
    "        disc_loss_list = []\n",
    "        \n",
    "        bw_batch = []\n",
    "        \n",
    "        steps = 0\n",
    "        \n",
    "        for bw_imagebatch, cl_imagebatch in zip(gen_generator,disc_generator):\n",
    "            if(steps>steps_per_epoch):\n",
    "                break\n",
    "            if(len(bw_batch)<8):\n",
    "                for i in range(bw_imagebatch.shape[0]):\n",
    "                    bw_batch.append(bw_imagebatch[i])\n",
    "            t = train_step(bw_imagebatch, cl_imagebatch)\n",
    "            gen_loss_list.append(t[0])\n",
    "            disc_loss_list.append(t[1])\n",
    "            steps+=1\n",
    "\n",
    "        g_loss = sum(gen_loss_list) / len(gen_loss_list)\n",
    "        d_loss = sum(disc_loss_list) / len(disc_loss_list)\n",
    "\n",
    "        epoch_elapsed = time.time()-epoch_start\n",
    "        \n",
    "        print (f'Epoch {epoch+1}, gen loss={g_loss},disc loss={d_loss}, epoch_time={hms_string(epoch_elapsed)}')\n",
    "        save_images(epoch,np.array(bw_batch))\n",
    "\n",
    "    elapsed = time.time()-start\n",
    "    print (f'Training time: {hms_string(elapsed)}')"
   ]
  },
  {
   "cell_type": "code",
   "execution_count": 36,
   "metadata": {},
   "outputs": [
    {
     "name": "stdout",
     "output_type": "stream",
     "text": [
      "Model: \"sequential\"\n",
      "_________________________________________________________________\n",
      "Layer (type)                 Output Shape              Param #   \n",
      "=================================================================\n",
      "conv2d (Conv2D)              (None, 300, 300, 128)     1280      \n",
      "_________________________________________________________________\n",
      "batch_normalization (BatchNo (None, 300, 300, 128)     512       \n",
      "_________________________________________________________________\n",
      "activation (Activation)      (None, 300, 300, 128)     0         \n",
      "_________________________________________________________________\n",
      "conv2d_1 (Conv2D)            (None, 300, 300, 128)     147584    \n",
      "_________________________________________________________________\n",
      "batch_normalization_1 (Batch (None, 300, 300, 128)     512       \n",
      "_________________________________________________________________\n",
      "activation_1 (Activation)    (None, 300, 300, 128)     0         \n",
      "_________________________________________________________________\n",
      "conv2d_2 (Conv2D)            (None, 300, 300, 256)     295168    \n",
      "_________________________________________________________________\n",
      "batch_normalization_2 (Batch (None, 300, 300, 256)     1024      \n",
      "_________________________________________________________________\n",
      "activation_2 (Activation)    (None, 300, 300, 256)     0         \n",
      "_________________________________________________________________\n",
      "conv2d_3 (Conv2D)            (None, 300, 300, 256)     590080    \n",
      "_________________________________________________________________\n",
      "batch_normalization_3 (Batch (None, 300, 300, 256)     1024      \n",
      "_________________________________________________________________\n",
      "activation_3 (Activation)    (None, 300, 300, 256)     0         \n",
      "_________________________________________________________________\n",
      "conv2d_4 (Conv2D)            (None, 300, 300, 256)     590080    \n",
      "_________________________________________________________________\n",
      "batch_normalization_4 (Batch (None, 300, 300, 256)     1024      \n",
      "_________________________________________________________________\n",
      "activation_4 (Activation)    (None, 300, 300, 256)     0         \n",
      "_________________________________________________________________\n",
      "conv2d_5 (Conv2D)            (None, 300, 300, 3)       6915      \n",
      "_________________________________________________________________\n",
      "activation_5 (Activation)    (None, 300, 300, 3)       0         \n",
      "=================================================================\n",
      "Total params: 1,635,203\n",
      "Trainable params: 1,633,155\n",
      "Non-trainable params: 2,048\n",
      "_________________________________________________________________\n"
     ]
    }
   ],
   "source": [
    "generator.summary()"
   ]
  },
  {
   "cell_type": "code",
   "execution_count": 37,
   "metadata": {},
   "outputs": [
    {
     "name": "stdout",
     "output_type": "stream",
     "text": [
      "Model: \"sequential_1\"\n",
      "_________________________________________________________________\n",
      "Layer (type)                 Output Shape              Param #   \n",
      "=================================================================\n",
      "conv2d_6 (Conv2D)            (None, 150, 150, 32)      896       \n",
      "_________________________________________________________________\n",
      "leaky_re_lu (LeakyReLU)      (None, 150, 150, 32)      0         \n",
      "_________________________________________________________________\n",
      "dropout (Dropout)            (None, 150, 150, 32)      0         \n",
      "_________________________________________________________________\n",
      "conv2d_7 (Conv2D)            (None, 75, 75, 64)        18496     \n",
      "_________________________________________________________________\n",
      "zero_padding2d (ZeroPadding2 (None, 76, 76, 64)        0         \n",
      "_________________________________________________________________\n",
      "batch_normalization_5 (Batch (None, 76, 76, 64)        256       \n",
      "_________________________________________________________________\n",
      "leaky_re_lu_1 (LeakyReLU)    (None, 76, 76, 64)        0         \n",
      "_________________________________________________________________\n",
      "dropout_1 (Dropout)          (None, 76, 76, 64)        0         \n",
      "_________________________________________________________________\n",
      "conv2d_8 (Conv2D)            (None, 38, 38, 128)       73856     \n",
      "_________________________________________________________________\n",
      "batch_normalization_6 (Batch (None, 38, 38, 128)       512       \n",
      "_________________________________________________________________\n",
      "leaky_re_lu_2 (LeakyReLU)    (None, 38, 38, 128)       0         \n",
      "_________________________________________________________________\n",
      "dropout_2 (Dropout)          (None, 38, 38, 128)       0         \n",
      "_________________________________________________________________\n",
      "conv2d_9 (Conv2D)            (None, 38, 38, 256)       295168    \n",
      "_________________________________________________________________\n",
      "batch_normalization_7 (Batch (None, 38, 38, 256)       1024      \n",
      "_________________________________________________________________\n",
      "leaky_re_lu_3 (LeakyReLU)    (None, 38, 38, 256)       0         \n",
      "_________________________________________________________________\n",
      "dropout_3 (Dropout)          (None, 38, 38, 256)       0         \n",
      "_________________________________________________________________\n",
      "conv2d_10 (Conv2D)           (None, 38, 38, 512)       1180160   \n",
      "_________________________________________________________________\n",
      "batch_normalization_8 (Batch (None, 38, 38, 512)       2048      \n",
      "_________________________________________________________________\n",
      "leaky_re_lu_4 (LeakyReLU)    (None, 38, 38, 512)       0         \n",
      "_________________________________________________________________\n",
      "dropout_4 (Dropout)          (None, 38, 38, 512)       0         \n",
      "_________________________________________________________________\n",
      "flatten (Flatten)            (None, 739328)            0         \n",
      "_________________________________________________________________\n",
      "dense (Dense)                (None, 1)                 739329    \n",
      "=================================================================\n",
      "Total params: 2,311,745\n",
      "Trainable params: 2,309,825\n",
      "Non-trainable params: 1,920\n",
      "_________________________________________________________________\n"
     ]
    }
   ],
   "source": [
    "discriminator.summary()"
   ]
  },
  {
   "cell_type": "code",
   "execution_count": 38,
   "metadata": {
    "scrolled": true
   },
   "outputs": [
    {
     "name": "stdout",
     "output_type": "stream",
     "text": [
      "Epoch 1, gen loss=0.6931475400924683,disc loss=1.3862942457199097, epoch_time=0:00:10.10\n",
      "Epoch 2, gen loss=0.6931474804878235,disc loss=1.3862942457199097, epoch_time=0:00:09.28\n",
      "Epoch 3, gen loss=0.6931474804878235,disc loss=1.3862947225570679, epoch_time=0:00:09.26\n",
      "Epoch 4, gen loss=0.6931475400924683,disc loss=1.3862947225570679, epoch_time=0:00:09.30\n",
      "Epoch 5, gen loss=0.6931475400924683,disc loss=1.3862947225570679, epoch_time=0:00:09.38\n",
      "Epoch 6, gen loss=0.6931475400924683,disc loss=1.3862946033477783, epoch_time=0:00:09.40\n",
      "Epoch 7, gen loss=0.6931475400924683,disc loss=1.3862944841384888, epoch_time=0:00:09.52\n",
      "Epoch 8, gen loss=0.6931474804878235,disc loss=1.3862946033477783, epoch_time=0:00:10.07\n",
      "Epoch 9, gen loss=0.6931475400924683,disc loss=1.3862942457199097, epoch_time=0:00:10.40\n",
      "Epoch 10, gen loss=0.6931475400924683,disc loss=1.3862942457199097, epoch_time=0:00:12.61\n",
      "Epoch 11, gen loss=0.6931475400924683,disc loss=1.3862942457199097, epoch_time=0:00:14.77\n",
      "Epoch 12, gen loss=0.6931475400924683,disc loss=1.3862946033477783, epoch_time=0:00:16.51\n",
      "Epoch 13, gen loss=0.6931475400924683,disc loss=1.3862943649291992, epoch_time=0:00:18.58\n",
      "Epoch 14, gen loss=0.6931475400924683,disc loss=1.3862944841384888, epoch_time=0:00:20.75\n",
      "Epoch 15, gen loss=0.6931475400924683,disc loss=1.3862942457199097, epoch_time=0:00:19.14\n",
      "Epoch 16, gen loss=0.6931474804878235,disc loss=1.3862942457199097, epoch_time=0:00:21.17\n",
      "Epoch 17, gen loss=0.6931475400924683,disc loss=1.3862943649291992, epoch_time=0:00:20.08\n",
      "Epoch 18, gen loss=0.6931475400924683,disc loss=1.3862946033477783, epoch_time=0:00:22.52\n",
      "Epoch 19, gen loss=0.6931474804878235,disc loss=1.3862935304641724, epoch_time=0:00:26.40\n",
      "Epoch 20, gen loss=0.6931474804878235,disc loss=1.3862942457199097, epoch_time=0:00:25.03\n",
      "Epoch 21, gen loss=0.6931475400924683,disc loss=1.3862947225570679, epoch_time=0:00:23.92\n",
      "Epoch 22, gen loss=0.6931474804878235,disc loss=1.3862942457199097, epoch_time=0:00:27.23\n",
      "Epoch 23, gen loss=0.6931474804878235,disc loss=1.3862946033477783, epoch_time=0:00:25.41\n",
      "Epoch 24, gen loss=0.6931475400924683,disc loss=1.3862940073013306, epoch_time=0:00:25.90\n",
      "Epoch 25, gen loss=0.6931475400924683,disc loss=1.3862943649291992, epoch_time=0:00:30.64\n",
      "Epoch 26, gen loss=0.6931475400924683,disc loss=1.3862944841384888, epoch_time=0:00:26.95\n",
      "Epoch 27, gen loss=0.6931475400924683,disc loss=1.3862941265106201, epoch_time=0:00:27.09\n",
      "Epoch 28, gen loss=0.6931475400924683,disc loss=1.386293888092041, epoch_time=0:00:22.90\n",
      "Epoch 29, gen loss=0.6931474804878235,disc loss=1.3862935304641724, epoch_time=0:00:29.13\n",
      "Epoch 30, gen loss=0.6931474804878235,disc loss=1.3862937688827515, epoch_time=0:00:28.92\n",
      "Epoch 31, gen loss=0.6931474804878235,disc loss=1.3862937688827515, epoch_time=0:00:28.15\n",
      "Epoch 32, gen loss=0.6931475400924683,disc loss=1.3862934112548828, epoch_time=0:00:30.90\n",
      "Epoch 33, gen loss=0.6931474804878235,disc loss=1.3862934112548828, epoch_time=0:00:27.22\n",
      "Epoch 34, gen loss=0.6931474208831787,disc loss=1.3862913846969604, epoch_time=0:00:33.88\n",
      "Epoch 35, gen loss=0.6931473612785339,disc loss=1.3862937688827515, epoch_time=0:00:26.26\n",
      "Epoch 36, gen loss=0.6931474804878235,disc loss=1.386292576789856, epoch_time=0:00:31.81\n",
      "Epoch 37, gen loss=0.6931473612785339,disc loss=1.3862855434417725, epoch_time=0:00:30.02\n",
      "Epoch 38, gen loss=0.6931474804878235,disc loss=1.3862887620925903, epoch_time=0:00:30.66\n",
      "Epoch 39, gen loss=0.5356211066246033,disc loss=1.485356092453003, epoch_time=0:00:31.64\n",
      "Epoch 40, gen loss=0.3132617473602295,disc loss=1.6265231370925903, epoch_time=0:00:29.34\n",
      "Epoch 41, gen loss=0.3132617473602295,disc loss=1.6265231370925903, epoch_time=0:00:30.49\n",
      "Epoch 42, gen loss=0.3132617473602295,disc loss=1.6265231370925903, epoch_time=0:00:32.28\n",
      "Epoch 43, gen loss=0.3132617473602295,disc loss=1.6265231370925903, epoch_time=0:00:26.61\n",
      "Epoch 44, gen loss=0.3132617473602295,disc loss=1.6265231370925903, epoch_time=0:00:27.23\n",
      "Epoch 45, gen loss=0.3132617473602295,disc loss=1.6265231370925903, epoch_time=0:00:27.59\n",
      "Epoch 46, gen loss=0.3132617473602295,disc loss=1.6265231370925903, epoch_time=0:00:31.88\n",
      "Epoch 47, gen loss=0.3132617473602295,disc loss=1.6265231370925903, epoch_time=0:00:26.28\n",
      "Epoch 48, gen loss=0.3132617473602295,disc loss=1.6265231370925903, epoch_time=0:00:26.82\n",
      "Epoch 49, gen loss=0.3132617473602295,disc loss=1.6265231370925903, epoch_time=0:00:28.14\n",
      "Epoch 50, gen loss=0.3132617473602295,disc loss=1.6265231370925903, epoch_time=0:00:27.15\n",
      "Training time: 0:21:21.21\n"
     ]
    }
   ],
   "source": [
    "steps_per_epoch = int(np.ceil(bw_image_generator.n/bw_image_generator.batch_size))\n",
    "train(bw_image_generator, cl_image_generator, EPOCHS, steps_per_epoch)"
   ]
  },
  {
   "cell_type": "code",
   "execution_count": null,
   "metadata": {},
   "outputs": [],
   "source": [
    "generator.save(os.path.join(DATA_PATH,\"color_generator.h5\"))"
   ]
  },
  {
   "cell_type": "code",
   "execution_count": null,
   "metadata": {},
   "outputs": [],
   "source": []
  }
 ],
 "metadata": {
  "kernelspec": {
   "display_name": "Python 3",
   "language": "python",
   "name": "python3"
  },
  "language_info": {
   "codemirror_mode": {
    "name": "ipython",
    "version": 3
   },
   "file_extension": ".py",
   "mimetype": "text/x-python",
   "name": "python",
   "nbconvert_exporter": "python",
   "pygments_lexer": "ipython3",
   "version": "3.7.8"
  }
 },
 "nbformat": 4,
 "nbformat_minor": 4
}
